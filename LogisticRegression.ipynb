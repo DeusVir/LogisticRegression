{
  "nbformat": 4,
  "nbformat_minor": 0,
  "metadata": {
    "colab": {
      "provenance": []
    },
    "kernelspec": {
      "name": "python3",
      "display_name": "Python 3"
    },
    "language_info": {
      "name": "python"
    }
  },
  "cells": [
    {
      "cell_type": "code",
      "execution_count": null,
      "metadata": {
        "id": "Sr5Nj9FzB6uk",
        "colab": {
          "base_uri": "https://localhost:8080/"
        },
        "outputId": "e1cf325e-3393-46ee-bd7c-dcbc786caaa9"
      },
      "outputs": [
        {
          "output_type": "execute_result",
          "data": {
            "text/plain": [
              "1.0"
            ]
          },
          "metadata": {},
          "execution_count": 4
        }
      ],
      "source": [
        "import numpy as np\n",
        "from pandas import *\n",
        "class MyLogReg():\n",
        "  def __init__(self,weigths=None,n_iter=100,learning_rate=None,metric=None,y_pred=None,reg=None,l1_coef=0,l2_coef=0,sgd_sample=None,random_state=42):\n",
        "    self.n_iter=n_iter\n",
        "    self.learning_rate=learning_rate\n",
        "    self.weights=weigths\n",
        "    self.metric=metric\n",
        "    self.y_pred=y_pred\n",
        "    self.reg=reg\n",
        "    self.l1_coef=l1_coef\n",
        "    self.l2_coef=l2_coef\n",
        "    self.sgd_sample=sgd_sample\n",
        "    self.random_state=random_state\n",
        "  def __str__(self):\n",
        "    return \"MyLineReg class: \"+ \", \".join(('{}={}'.format(item, self.__dict__[item]) for item in self.__dict__))\n",
        "  def __repr__(self):\n",
        "     return \"MyLineReg class: \"+ \", \".join(('{}={}'.format(item, self.__dict__[item]) for item in self.__dict__))\n",
        "\n",
        "  def fit(self,X,y,verbose=False):\n",
        "    random.seed(self.random_state)\n",
        "    self.weights=np.ones(X.shape[1]+1)\n",
        "    eps = 1e-15\n",
        "    X.insert(0,\"ones\",np.ones(X.shape[0]))\n",
        "    is_double=isinstance(self.learning_rate, float)\n",
        "    X.reset_index(drop=True,inplace=True)\n",
        "    y.reset_index(drop=True,inplace=True)\n",
        "    for i in range(1,self.n_iter+1):\n",
        "      if isinstance(self.sgd_sample,int):\n",
        "        sample_rows_idx = random.sample(range(X.shape[0]), self.sgd_sample)\n",
        "      elif self.sgd_sample != None:\n",
        "        sample_rows_idx = random.sample(range(X.shape[0]), int(self.sgd_sample*len(y)))\n",
        "      else:\n",
        "        sample_rows_idx=X.index\n",
        "\n",
        "      X_cut = X.iloc[sample_rows_idx]\n",
        "      y_cut = y.iloc[sample_rows_idx]\n",
        "      y_pred = 1/(1+np.exp(-self.weights @ X_cut.T))\n",
        "      if self.reg == \"l1\":\n",
        "        logloss = -np.mean(y*np.log(y_pred+eps)+(1-y)*np.log(1-y_pred+eps)) + self.l1_coef * np.sum(self.weights)\n",
        "        gradient =  (y_pred-y_cut)@X_cut/len(y_cut) + self.l1_coef * np.sign(self.weights)\n",
        "      elif self.reg==\"l2\":\n",
        "        logLoss = -np.mean(y*np.log(y_pred+eps)+(1-y)*np.log(1-y_pred+eps)) + self.l2_coef * np.sum(self.weights**2)\n",
        "        gradient =  (y_pred-y_cut)@X_cut/len(y_cut) +  self.l2_coef * 2 * self.weights\n",
        "      elif self.reg==\"elasticnet\":\n",
        "        logLoss = -np.mean(y*np.log(y_pred+eps)+(1-y)*np.log(1-y_pred+eps)) +  self.l1_coef * np.sum(self.weights) + self.l2_coef * np.sum(self.weights**2)\n",
        "        gradient =  (y_pred-y_cut)@X_cut/len(y_cut) + self.l1_coef * np.sign(self.weights)+ self.l2_coef * 2 * self.weights\n",
        "      else:\n",
        "        logLoss = -np.mean(y*np.log(y_pred+eps)+(1-y)*np.log(1-y_pred+eps))\n",
        "        gradient =  (y_pred-y_cut)@X_cut/len(y_cut)\n",
        "\n",
        "      if not is_double:\n",
        "        self.weights-=self.learning_rate(i) * gradient\n",
        "      else:\n",
        "        self.weights-=self.learning_rate * gradient\n",
        "\n",
        "      if verbose and (i+1)%verbose==0:\n",
        "        if self.metric!=None:\n",
        "          print(f\"{i+1} | loss : {logloss: .2f}\")\n",
        "        else:\n",
        "           print(f\"{i+1} | loss : {logloss: .2f}\")\n",
        "    self.y_pred=1/(1+np.exp(-self.weights @ X.T))\n",
        "\n",
        "  def get_coef(self):\n",
        "    return self.weights[1:]\n",
        "\n",
        "  def predict_proba(self,X):\n",
        "    return np.mean(1/(1+np.exp(-self.weights @ X.T)))\n",
        "  def predict(self,X):\n",
        "    X.insert(0,\"ones\",np.ones(X.shape[0]))\n",
        "    return np.sum((1/(1+np.exp(-self.weights @ X.T)) > 0.5).astype(int))\n",
        "\n",
        "  def get_best_score(self):\n",
        "    y_pred = self.y_pred\n",
        "    tp = np.sum(((self.y_pred > 0.5).astype(int) == 1) & (y == 1))\n",
        "    tn = np.sum(((self.y_pred > 0.5).astype(int) == 0) & (y == 0))\n",
        "    fp = np.sum(((self.y_pred > 0.5).astype(int) == 1) & (y == 0))\n",
        "    fn = np.sum(((self.y_pred > 0.5).astype(int) == 0) & (y == 1))\n",
        "    if self.metric==\"accuracy\":\n",
        "      return (tp+tn)/(tp+tn+fp+fn)\n",
        "    elif self.metric == 'precision':\n",
        "      return tp/(tp+fp)\n",
        "    elif self.metric==\"recall\":\n",
        "       return tp/(tp+fn)\n",
        "    elif self.metric ==\"f1\":\n",
        "      pr=tp/(tp+fp)\n",
        "      rc=tp/(tp+fn)\n",
        "      return 2*pr*rc/(pr+rc)\n",
        "    elif self.metric==\"roc_auc\":\n",
        "        y_score = y_pred.round(10)\n",
        "        df = concat([y_score, y], axis=1)\n",
        "        df = df.sort_values(by=0, ascending=False)\n",
        "\n",
        "        positives = df[df[1] == 1]\n",
        "        negatives = df[df[1] == 0]\n",
        "\n",
        "        total = 0\n",
        "        for _, row in negatives.iterrows():\n",
        "            score_higher = (positives[0] > row[0]).sum()\n",
        "            score_equal = (positives[0] == row[0]).sum()\n",
        "            total += score_higher + 0.5 * score_equal\n",
        "\n",
        "        return total / (positives.shape[0] * negatives.shape[0])\n",
        "\n",
        "\n",
        "a=MyLogReg(learning_rate=2.0,metric='roc_auc')\n",
        "y=Series([1,0,0,1,1])\n",
        "a.fit(DataFrame(np.random.randn(5, 3)),y)\n",
        "a.get_coef()\n",
        "a.get_best_score()"
      ]
    },
    {
      "cell_type": "code",
      "source": [
        "y_pred=[0.91,0.86,0.78,0.6,0.6,0.55,0.51,0.46,0.45,0.45,0.42]\n",
        "y_sorted = np.sort(y_pred)[::-1]\n",
        "y_class = [1,0,0,1,0,1,0,0,0,1,0]\n",
        "p = np.sum(y_class)\n",
        "n= len(y_class)-p\n",
        "\n",
        "sum = 0\n",
        "q=len(y_sorted)\n",
        "\n",
        "for i in range(q):\n",
        "\n",
        "  for j in range(q):\n",
        "    sum1=0\n",
        "    sum2=0\n",
        "    if y_class[i]<y_class[j]:\n",
        "      sum1+=1\n",
        "      if y_sorted[i]==y_sorted[j]:\n",
        "          sum2+=0.5\n",
        "      elif y_sorted[i]<y_sorted[j]:\n",
        "          sum2+=1\n",
        "    sum+=sum1*sum2\n",
        "\n",
        "\n",
        "print(sum / (p * n))"
      ],
      "metadata": {
        "id": "flDpPfHgYnGb",
        "colab": {
          "base_uri": "https://localhost:8080/"
        },
        "outputId": "657e75c3-38a0-46b8-acb9-231aa9f92a14"
      },
      "execution_count": null,
      "outputs": [
        {
          "output_type": "stream",
          "name": "stdout",
          "text": [
            "0.6071428571428571\n"
          ]
        }
      ]
    },
    {
      "cell_type": "code",
      "source": [
        "import pandas as pd\n",
        "y_pred=Series([0.91,0.86,0.78,0.6,0.6,0.55,0.51,0.46,0.45,0.45,0.42])\n",
        "y_score = y_pred.round(10)\n",
        "y_true = Series([1,0,0,1,0,1,0,0,0,1,0])\n",
        "df = pd.concat([y_score, y_true], axis=1)\n",
        "df = df.sort_values(by=0, ascending=False)\n",
        "\n",
        "positives = df[df[1] == 1]\n",
        "negatives = df[df[1] == 0]\n",
        "\n",
        "total = 0\n",
        "for _, row in negatives.iterrows():\n",
        "    score_higher = (positives[0] > row[0]).sum()\n",
        "    score_equal = (positives[0] == row[0]).sum()\n",
        "    total += score_higher + 0.5 * score_equal\n",
        "\n",
        "print( total / (positives.shape[0] * negatives.shape[0]))\n"
      ],
      "metadata": {
        "id": "sZejh-u5BXAS",
        "colab": {
          "base_uri": "https://localhost:8080/"
        },
        "outputId": "a3298357-9db9-4d3e-eaf8-0fb7a95f6326"
      },
      "execution_count": null,
      "outputs": [
        {
          "output_type": "stream",
          "name": "stdout",
          "text": [
            "0.6071428571428571\n"
          ]
        }
      ]
    }
  ]
}